{
 "cells": [
  {
   "cell_type": "code",
   "execution_count": 1,
   "id": "d790a4db",
   "metadata": {},
   "outputs": [],
   "source": [
    "import torch\n",
    "import torch.nn as nn\n",
    "import torch.optim as optim\n",
    "from torch.utils.data import DataLoader, Dataset\n",
    "from torchvision import transforms, models\n",
    "from PIL import Image\n",
    "import os\n",
    "import pandas as pd\n",
    "import numpy as np\n",
    "from tqdm import tqdm"
   ]
  },
  {
   "cell_type": "code",
   "execution_count": 2,
   "id": "8954f558",
   "metadata": {},
   "outputs": [
    {
     "name": "stdout",
     "output_type": "stream",
     "text": [
      "Using device: cpu\n"
     ]
    }
   ],
   "source": [
    "# check apakah GPU tersedia\n",
    "device = torch.device(\"cuda\" if torch.cuda.is_available() else \"cpu\")\n",
    "print(f\"Using device: {device}\")"
   ]
  },
  {
   "cell_type": "code",
   "execution_count": 3,
   "id": "196459d5",
   "metadata": {},
   "outputs": [
    {
     "name": "stdout",
     "output_type": "stream",
     "text": [
      "path yang diperiksa untuk gender: c:\\DeepLearning\\agegenderclassification-project\\dataset\\gender\\Training\n",
      "jumlah gambar gender yang ditemukan: 220\n",
      "path yang diperiksa untuk usia: c:\\DeepLearning\\agegenderclassification-project\\dataset\\age\\Training\n",
      "jumlah gambar usia yang ditemukan: 125\n",
      "\n",
      "Gender dataset size: 220\n",
      "Age dataset size: 125\n"
     ]
    }
   ],
   "source": [
    "# === TAHAP 1: PERSIAPAN DATA ===\n",
    "# Transformasi gambar: resize, augmentasi, normalisasi\n",
    "data_transforms = {\n",
    "    'train': transforms.Compose([\n",
    "        transforms.Resize((224, 224)),\n",
    "        transforms.RandomHorizontalFlip(),\n",
    "        transforms.RandomRotation(10),\n",
    "        transforms.ToTensor(),\n",
    "        transforms.Normalize([0.485, 0.456, 0.406], [0.229, 0.224, 0.225])\n",
    "    ]),\n",
    "    'val': transforms.Compose([\n",
    "        transforms.Resize((224, 224)),\n",
    "        transforms.ToTensor(),\n",
    "        transforms.Normalize([0.485, 0.456, 0.406], [0.229, 0.224, 0.225])\n",
    "    ]),\n",
    "}\n",
    "\n",
    "# dataset custom untuk gender\n",
    "class GenderDataset(Dataset):\n",
    "    def __init__(self, root_dir, transform=None):\n",
    "        self.root_dir = root_dir\n",
    "        self.transform = transform\n",
    "        self.image_paths = []\n",
    "        self.labels = []\n",
    "\n",
    "        # label: 0 untuk female, 1 untuk male\n",
    "        for label, gender in enumerate(['female', 'male']):\n",
    "            gender_path = os.path.join(self.root_dir, gender)\n",
    "            for img_name in os.listdir(gender_path):\n",
    "                self.image_paths.append(os.path.join(gender_path, img_name))\n",
    "                self.labels.append(label)\n",
    "\n",
    "    def __len__(self):\n",
    "        return len(self.image_paths)\n",
    "\n",
    "    def __getitem__(self, idx):\n",
    "        img_path = self.image_paths[idx]\n",
    "        try:\n",
    "            image = Image.open(img_path).convert(\"RGB\")\n",
    "        except:\n",
    "            # jika gambar rusak, return gambar dummy\n",
    "            print(f\"Warning: Could not load image {img_path}. Skipping.\")\n",
    "            return self.__getitem__((idx + 1) % len(self))\n",
    "            \n",
    "        label = self.labels[idx]\n",
    "\n",
    "        if self.transform:\n",
    "            image = self.transform(image)\n",
    "\n",
    "        return image, torch.tensor(label, dtype=torch.float32)\n",
    "\n",
    "# dataset custom untuk usia\n",
    "class AgeDataset(Dataset):\n",
    "    def __init__(self, root_dir, transform=None):\n",
    "        self.root_dir = root_dir\n",
    "        self.transform = transform\n",
    "        self.image_paths = []\n",
    "        self.labels = []\n",
    "\n",
    "        # loop melalui setiap folder di direktori root\n",
    "        for age_folder in os.listdir(self.root_dir):\n",
    "            folder_path = os.path.join(self.root_dir, age_folder)\n",
    "            \n",
    "            if os.path.isdir(folder_path):\n",
    "                try:\n",
    "                    # coba pisahkan nama folder berdasarkan tanda '-'\n",
    "                    parts = age_folder.split('-')\n",
    "                    if len(parts) == 2:\n",
    "                        # jika berhasil (misal: \"18-20\"), hitung rata-ratanya\n",
    "                        start_age = int(parts[0])\n",
    "                        end_age = int(parts[1])\n",
    "                        avg_age = (start_age + end_age) / 2.0\n",
    "                    else:\n",
    "                        # jika formatnya angka tunggal (misal: \"18\")\n",
    "                        avg_age = float(age_folder)\n",
    "\n",
    "                    # jika berhasil, tambahkan semua gambar di folder itu\n",
    "                    for img_name in os.listdir(folder_path):\n",
    "                        self.image_paths.append(os.path.join(folder_path, img_name))\n",
    "                        self.labels.append(avg_age)\n",
    "                        \n",
    "                except ValueError:\n",
    "                    # abaikan folder yang namanya tidak bisa diubah jadi angka (misal: '.DS_Store')\n",
    "                    print(f\"Mengabaikan folder: {age_folder}\")\n",
    "                    continue\n",
    "\n",
    "    def __len__(self):\n",
    "        return len(self.image_paths)\n",
    "\n",
    "    def __getitem__(self, idx):\n",
    "        img_path = self.image_paths[idx]\n",
    "        try:\n",
    "            image = Image.open(img_path).convert(\"RGB\")\n",
    "        except:\n",
    "            print(f\"Warning: Could not load image {img_path}. Skipping.\")\n",
    "            return self.__getitem__((idx + 1) % len(self))\n",
    "        \n",
    "        label = self.labels[idx]\n",
    "\n",
    "        if self.transform:\n",
    "            image = self.transform(image)\n",
    "        \n",
    "        return image, torch.tensor(label, dtype=torch.float32)\n",
    "\n",
    "# Ganti dengan path dataset Anda\n",
    "GENDER_DATA_PATH = './dataset/gender/Training/'\n",
    "AGE_DATA_PATH = './dataset/age/Training/'\n",
    "\n",
    "# Buat instance dataset\n",
    "# CATATAN: Untuk kesederhanaan, kita gunakan path training untuk validasi juga.\n",
    "# Dalam proyek nyata, Anda harus memiliki folder validasi terpisah.\n",
    "gender_dataset_train = GenderDataset(root_dir=GENDER_DATA_PATH, transform=data_transforms['train'])\n",
    "age_dataset_train = AgeDataset(root_dir=AGE_DATA_PATH, transform=data_transforms['train'])\n",
    "\n",
    "gender_dataset_val = GenderDataset(root_dir=GENDER_DATA_PATH, transform=data_transforms['val'])\n",
    "age_dataset_val = AgeDataset(root_dir=AGE_DATA_PATH, transform=data_transforms['val'])\n",
    "\n",
    "print(f\"path yang diperiksa untuk gender: {os.path.abspath(GENDER_DATA_PATH)}\")\n",
    "print(f\"jumlah gambar gender yang ditemukan: {len(gender_dataset_train)}\")\n",
    "print(f\"path yang diperiksa untuk usia: {os.path.abspath(AGE_DATA_PATH)}\")\n",
    "print(f\"jumlah gambar usia yang ditemukan: {len(age_dataset_train)}\")\n",
    "\n",
    "# DataLoader\n",
    "BATCH_SIZE = 32\n",
    "gender_loader_train = DataLoader(gender_dataset_train, batch_size=BATCH_SIZE, shuffle=True, num_workers=0)\n",
    "age_loader_train = DataLoader(age_dataset_train, batch_size=BATCH_SIZE, shuffle=True, num_workers=0)\n",
    "\n",
    "gender_loader_val = DataLoader(gender_dataset_val, batch_size=BATCH_SIZE, shuffle=False, num_workers=0)\n",
    "age_loader_val = DataLoader(age_dataset_val, batch_size=BATCH_SIZE, shuffle=False, num_workers=0)\n",
    "\n",
    "\n",
    "print(f\"\"\"\n",
    "Gender dataset size: {len(gender_dataset_train)}\n",
    "Age dataset size: {len(age_dataset_train)}\"\"\")"
   ]
  },
  {
   "cell_type": "code",
   "execution_count": 4,
   "id": "689c4443",
   "metadata": {},
   "outputs": [
    {
     "name": "stderr",
     "output_type": "stream",
     "text": [
      "c:\\Users\\ASUS\\AppData\\Local\\Programs\\Python\\Python313\\Lib\\site-packages\\torchvision\\models\\_utils.py:208: UserWarning: The parameter 'pretrained' is deprecated since 0.13 and may be removed in the future, please use 'weights' instead.\n",
      "  warnings.warn(\n",
      "c:\\Users\\ASUS\\AppData\\Local\\Programs\\Python\\Python313\\Lib\\site-packages\\torchvision\\models\\_utils.py:223: UserWarning: Arguments other than a weight enum or `None` for 'weights' are deprecated since 0.13 and may be removed in the future. The current behavior is equivalent to passing `weights=ResNet50_Weights.IMAGENET1K_V1`. You can also use `weights=ResNet50_Weights.DEFAULT` to get the most up-to-date weights.\n",
      "  warnings.warn(msg)\n"
     ]
    }
   ],
   "source": [
    "# === TAHAP 2: DEFINISI MODEL ===\n",
    "\n",
    "class AgeGenderModel(nn.Module):\n",
    "    def __init__(self, num_features):\n",
    "        super(AgeGenderModel, self).__init__()\n",
    "        # pake ResNet50 sebagai base model\n",
    "        self.base_model = models.resnet50(pretrained=True)\n",
    "        \n",
    "        # \"Bekukan\" bobot dari base model agar tidak ikut terlatih\n",
    "        for param in self.base_model.parameters():\n",
    "            param.requires_grad = False\n",
    "            \n",
    "        # ganti lapisan klasifikasi asli ResNet50\n",
    "        in_features = self.base_model.fc.in_features\n",
    "        self.base_model.fc = nn.Identity() # hapus lapisan fc asli\n",
    "\n",
    "        # gender branch\n",
    "        self.gender_head = nn.Sequential(\n",
    "            nn.Linear(in_features, 512),\n",
    "            nn.ReLU(),\n",
    "            nn.Dropout(0.5),\n",
    "            nn.Linear(512, 1) # output tunggal untuk sigmoid\n",
    "        )\n",
    "        \n",
    "        # Age Branch\n",
    "        self.age_head = nn.Sequential(\n",
    "            nn.Linear(in_features, 512),\n",
    "            nn.ReLU(),\n",
    "            nn.Dropout(0.5),\n",
    "            nn.Linear(512, 1) # Output tunggal untuk prediksi usia\n",
    "        )\n",
    "\n",
    "    def forward(self, x):\n",
    "        features = self.base_model(x)\n",
    "        features = features.view(features.size(0), -1)\n",
    "        \n",
    "        gender_output = self.gender_head(features)\n",
    "        age_output = self.age_head(features)\n",
    "        \n",
    "        return gender_output, age_output\n",
    "\n",
    "# inisialisasi model\n",
    "model = AgeGenderModel(num_features=2048)\n",
    "model = model.to(device)"
   ]
  },
  {
   "cell_type": "code",
   "execution_count": 5,
   "id": "e45eb63d",
   "metadata": {},
   "outputs": [],
   "source": [
    "# === STEP 3: TRAINING & VALIDATION ===\n",
    "# loss functions and optimizer\n",
    "criterion_gender = nn.BCEWithLogitsLoss() # lebih stabil dari Sigmoid + BCELoss\n",
    "criterion_age = nn.L1Loss() # Mean Absolute Error (MAE)\n",
    "optimizer = optim.Adam(model.parameters(), lr=0.001)\n",
    "\n",
    "NUM_EPOCHS = 20\n",
    "\n",
    "def train_model(model, gender_loader, age_loader, criterion_gender, criterion_age, optimizer, num_epochs=20):\n",
    "    for epoch in range(num_epochs):\n",
    "        model.train()\n",
    "        running_gender_loss = 0.0\n",
    "        running_age_loss = 0.0\n",
    "        \n",
    "        # gunakan iterator untuk mengambil data secara bergantian\n",
    "        age_iter = iter(age_loader)\n",
    "        \n",
    "        progress_bar = tqdm(gender_loader, desc=f\"Epoch {epoch+1}/{num_epochs}\")\n",
    "        \n",
    "        for i, (gender_inputs, gender_labels) in enumerate(progress_bar):\n",
    "            # --- Training Gender ---\n",
    "            gender_inputs = gender_inputs.to(device)\n",
    "            gender_labels = gender_labels.to(device).unsqueeze(1)\n",
    "            \n",
    "            optimizer.zero_grad()\n",
    "            \n",
    "            gender_outputs, _ = model(gender_inputs)\n",
    "            loss_gender = criterion_gender(gender_outputs, gender_labels)\n",
    "            \n",
    "            # --- Training Age ---\n",
    "            try:\n",
    "                age_inputs, age_labels = next(age_iter)\n",
    "            except StopIteration:\n",
    "                # jika data usia habis, reset iterator\n",
    "                age_iter = iter(age_loader)\n",
    "                age_inputs, age_labels = next(age_iter)\n",
    "\n",
    "            age_inputs = age_inputs.to(device)\n",
    "            age_labels = age_labels.to(device).unsqueeze(1)\n",
    "\n",
    "            _, age_outputs = model(age_inputs)\n",
    "            loss_age = criterion_age(age_outputs, age_labels)\n",
    "\n",
    "            # gabungkan loss dan lakukan backpropagation\n",
    "            total_loss = loss_gender + loss_age\n",
    "            total_loss.backward()\n",
    "            optimizer.step()\n",
    "            \n",
    "            running_gender_loss += loss_gender.item() * gender_inputs.size(0)\n",
    "            running_age_loss += loss_age.item() * age_inputs.size(0)\n",
    "            \n",
    "            progress_bar.set_postfix(gender_loss=f\"{loss_gender.item():.4f}\", age_loss=f\"{loss_age.item():.4f}\")\n",
    "\n",
    "        epoch_gender_loss = running_gender_loss / len(gender_loader.dataset)\n",
    "        epoch_age_loss = running_age_loss / len(age_loader.dataset)\n",
    "        \n",
    "        print(f\"Epoch {epoch+1}/{num_epochs} -> Train Gender Loss: {epoch_gender_loss:.4f}, Train Age MAE: {epoch_age_loss:.4f}\")\n",
    "        \n",
    "        # --- Validasi ---\n",
    "        validate_model(model, gender_loader_val, age_loader_val, criterion_gender, criterion_age)\n",
    "        \n",
    "    print(\"Training selesai!\")\n",
    "    return model\n",
    "\n",
    "def validate_model(model, gender_loader, age_loader, criterion_gender, criterion_age):\n",
    "    model.eval()\n",
    "    total_gender_loss = 0\n",
    "    total_age_loss = 0\n",
    "    gender_corrects = 0\n",
    "    \n",
    "    with torch.no_grad():\n",
    "        # validasi gender\n",
    "        for inputs, labels in gender_loader:\n",
    "            inputs, labels = inputs.to(device), labels.to(device).unsqueeze(1)\n",
    "            outputs, _ = model(inputs)\n",
    "            loss = criterion_gender(outputs, labels)\n",
    "            total_gender_loss += loss.item() * inputs.size(0)\n",
    "            \n",
    "            preds = torch.sigmoid(outputs) > 0.5\n",
    "            gender_corrects += torch.sum(preds == labels.data)\n",
    "\n",
    "        # validasi age\n",
    "        for inputs, labels in age_loader:\n",
    "            inputs, labels = inputs.to(device), labels.to(device).unsqueeze(1)\n",
    "            _, outputs = model(inputs)\n",
    "            loss = criterion_age(outputs, labels)\n",
    "            total_age_loss += loss.item() * inputs.size(0)\n",
    "            \n",
    "    avg_gender_loss = total_gender_loss / len(gender_loader.dataset)\n",
    "    avg_age_mae = total_age_loss / len(age_loader.dataset)\n",
    "    gender_acc = gender_corrects.double() / len(gender_loader.dataset)\n",
    "    \n",
    "    print(f\"Validation -> Gender Loss: {avg_gender_loss:.4f}, Gender Acc: {gender_acc:.4f}, Age MAE: {avg_age_mae:.4f}\\n\")\n"
   ]
  },
  {
   "cell_type": "code",
   "execution_count": 6,
   "id": "b5983003",
   "metadata": {},
   "outputs": [
    {
     "name": "stderr",
     "output_type": "stream",
     "text": [
      "Epoch 1/20: 100%|██████████| 7/7 [00:57<00:00,  8.27s/it, age_loss=14.4976, gender_loss=0.7404]\n"
     ]
    },
    {
     "name": "stdout",
     "output_type": "stream",
     "text": [
      "Epoch 1/20 -> Train Gender Loss: 0.8409, Train Age MAE: 38.8405\n",
      "Validation -> Gender Loss: 0.6029, Gender Acc: 0.7455, Age MAE: 11.7876\n",
      "\n"
     ]
    },
    {
     "name": "stderr",
     "output_type": "stream",
     "text": [
      "Epoch 2/20: 100%|██████████| 7/7 [01:07<00:00,  9.62s/it, age_loss=16.1560, gender_loss=0.6420]\n"
     ]
    },
    {
     "name": "stdout",
     "output_type": "stream",
     "text": [
      "Epoch 2/20 -> Train Gender Loss: 0.6135, Train Age MAE: 27.6103\n",
      "Validation -> Gender Loss: 0.5185, Gender Acc: 0.8500, Age MAE: 12.8188\n",
      "\n"
     ]
    },
    {
     "name": "stderr",
     "output_type": "stream",
     "text": [
      "Epoch 3/20: 100%|██████████| 7/7 [01:07<00:00,  9.63s/it, age_loss=12.4078, gender_loss=0.4958]\n"
     ]
    },
    {
     "name": "stdout",
     "output_type": "stream",
     "text": [
      "Epoch 3/20 -> Train Gender Loss: 0.5543, Train Age MAE: 21.0795\n",
      "Validation -> Gender Loss: 0.4562, Gender Acc: 0.8364, Age MAE: 12.1172\n",
      "\n"
     ]
    },
    {
     "name": "stderr",
     "output_type": "stream",
     "text": [
      "Epoch 4/20: 100%|██████████| 7/7 [01:07<00:00,  9.66s/it, age_loss=12.2433, gender_loss=0.4466]\n"
     ]
    },
    {
     "name": "stdout",
     "output_type": "stream",
     "text": [
      "Epoch 4/20 -> Train Gender Loss: 0.4914, Train Age MAE: 22.2346\n",
      "Validation -> Gender Loss: 0.4832, Gender Acc: 0.7591, Age MAE: 10.8895\n",
      "\n"
     ]
    },
    {
     "name": "stderr",
     "output_type": "stream",
     "text": [
      "Epoch 5/20: 100%|██████████| 7/7 [01:07<00:00,  9.67s/it, age_loss=9.5746, gender_loss=0.4603] \n"
     ]
    },
    {
     "name": "stdout",
     "output_type": "stream",
     "text": [
      "Epoch 5/20 -> Train Gender Loss: 0.4603, Train Age MAE: 19.4079\n",
      "Validation -> Gender Loss: 0.3686, Gender Acc: 0.8591, Age MAE: 11.0250\n",
      "\n"
     ]
    },
    {
     "name": "stderr",
     "output_type": "stream",
     "text": [
      "Epoch 6/20: 100%|██████████| 7/7 [00:51<00:00,  7.36s/it, age_loss=12.0255, gender_loss=0.4238]\n"
     ]
    },
    {
     "name": "stdout",
     "output_type": "stream",
     "text": [
      "Epoch 6/20 -> Train Gender Loss: 0.4204, Train Age MAE: 19.9645\n",
      "Validation -> Gender Loss: 0.3484, Gender Acc: 0.8591, Age MAE: 10.4624\n",
      "\n"
     ]
    },
    {
     "name": "stderr",
     "output_type": "stream",
     "text": [
      "Epoch 7/20: 100%|██████████| 7/7 [01:08<00:00,  9.75s/it, age_loss=10.6294, gender_loss=0.5415]\n"
     ]
    },
    {
     "name": "stdout",
     "output_type": "stream",
     "text": [
      "Epoch 7/20 -> Train Gender Loss: 0.4160, Train Age MAE: 19.0266\n",
      "Validation -> Gender Loss: 0.3021, Gender Acc: 0.8955, Age MAE: 10.1911\n",
      "\n"
     ]
    },
    {
     "name": "stderr",
     "output_type": "stream",
     "text": [
      "Epoch 8/20: 100%|██████████| 7/7 [01:07<00:00,  9.61s/it, age_loss=8.7148, gender_loss=0.3484] \n"
     ]
    },
    {
     "name": "stdout",
     "output_type": "stream",
     "text": [
      "Epoch 8/20 -> Train Gender Loss: 0.3367, Train Age MAE: 19.4105\n",
      "Validation -> Gender Loss: 0.2846, Gender Acc: 0.8955, Age MAE: 9.8605\n",
      "\n"
     ]
    },
    {
     "name": "stderr",
     "output_type": "stream",
     "text": [
      "Epoch 9/20: 100%|██████████| 7/7 [01:07<00:00,  9.64s/it, age_loss=10.2058, gender_loss=0.2610]\n"
     ]
    },
    {
     "name": "stdout",
     "output_type": "stream",
     "text": [
      "Epoch 9/20 -> Train Gender Loss: 0.3633, Train Age MAE: 18.7691\n",
      "Validation -> Gender Loss: 0.3049, Gender Acc: 0.8909, Age MAE: 9.6734\n",
      "\n"
     ]
    },
    {
     "name": "stderr",
     "output_type": "stream",
     "text": [
      "Epoch 10/20: 100%|██████████| 7/7 [01:07<00:00,  9.58s/it, age_loss=10.8319, gender_loss=0.2442]\n"
     ]
    },
    {
     "name": "stdout",
     "output_type": "stream",
     "text": [
      "Epoch 10/20 -> Train Gender Loss: 0.3573, Train Age MAE: 17.6519\n",
      "Validation -> Gender Loss: 0.2600, Gender Acc: 0.9182, Age MAE: 9.3139\n",
      "\n"
     ]
    },
    {
     "name": "stderr",
     "output_type": "stream",
     "text": [
      "Epoch 11/20: 100%|██████████| 7/7 [01:06<00:00,  9.54s/it, age_loss=10.1608, gender_loss=0.2171]\n"
     ]
    },
    {
     "name": "stdout",
     "output_type": "stream",
     "text": [
      "Epoch 11/20 -> Train Gender Loss: 0.2931, Train Age MAE: 17.6446\n",
      "Validation -> Gender Loss: 0.2545, Gender Acc: 0.9000, Age MAE: 9.0724\n",
      "\n"
     ]
    },
    {
     "name": "stderr",
     "output_type": "stream",
     "text": [
      "Epoch 12/20: 100%|██████████| 7/7 [01:11<00:00, 10.15s/it, age_loss=9.4799, gender_loss=0.3571] \n"
     ]
    },
    {
     "name": "stdout",
     "output_type": "stream",
     "text": [
      "Epoch 12/20 -> Train Gender Loss: 0.3161, Train Age MAE: 15.8418\n",
      "Validation -> Gender Loss: 0.3571, Gender Acc: 0.8364, Age MAE: 8.9439\n",
      "\n"
     ]
    },
    {
     "name": "stderr",
     "output_type": "stream",
     "text": [
      "Epoch 13/20: 100%|██████████| 7/7 [01:09<00:00,  9.95s/it, age_loss=8.7042, gender_loss=0.2439]\n"
     ]
    },
    {
     "name": "stdout",
     "output_type": "stream",
     "text": [
      "Epoch 13/20 -> Train Gender Loss: 0.3299, Train Age MAE: 15.3555\n",
      "Validation -> Gender Loss: 0.2527, Gender Acc: 0.8909, Age MAE: 8.5307\n",
      "\n"
     ]
    },
    {
     "name": "stderr",
     "output_type": "stream",
     "text": [
      "Epoch 14/20: 100%|██████████| 7/7 [00:58<00:00,  8.32s/it, age_loss=8.8415, gender_loss=0.2716]\n"
     ]
    },
    {
     "name": "stdout",
     "output_type": "stream",
     "text": [
      "Epoch 14/20 -> Train Gender Loss: 0.2912, Train Age MAE: 14.8745\n",
      "Validation -> Gender Loss: 0.2320, Gender Acc: 0.9045, Age MAE: 8.7110\n",
      "\n"
     ]
    },
    {
     "name": "stderr",
     "output_type": "stream",
     "text": [
      "Epoch 15/20: 100%|██████████| 7/7 [00:51<00:00,  7.30s/it, age_loss=10.6375, gender_loss=0.2692]\n"
     ]
    },
    {
     "name": "stdout",
     "output_type": "stream",
     "text": [
      "Epoch 15/20 -> Train Gender Loss: 0.2592, Train Age MAE: 15.2044\n",
      "Validation -> Gender Loss: 0.2229, Gender Acc: 0.9136, Age MAE: 8.1366\n",
      "\n"
     ]
    },
    {
     "name": "stderr",
     "output_type": "stream",
     "text": [
      "Epoch 16/20: 100%|██████████| 7/7 [00:53<00:00,  7.68s/it, age_loss=6.8972, gender_loss=0.3847] \n"
     ]
    },
    {
     "name": "stdout",
     "output_type": "stream",
     "text": [
      "Epoch 16/20 -> Train Gender Loss: 0.2959, Train Age MAE: 15.2851\n",
      "Validation -> Gender Loss: 0.2543, Gender Acc: 0.8909, Age MAE: 8.3695\n",
      "\n"
     ]
    },
    {
     "name": "stderr",
     "output_type": "stream",
     "text": [
      "Epoch 17/20: 100%|██████████| 7/7 [00:54<00:00,  7.83s/it, age_loss=8.1337, gender_loss=0.2020]\n"
     ]
    },
    {
     "name": "stdout",
     "output_type": "stream",
     "text": [
      "Epoch 17/20 -> Train Gender Loss: 0.2306, Train Age MAE: 14.4829\n",
      "Validation -> Gender Loss: 0.2295, Gender Acc: 0.9091, Age MAE: 7.7243\n",
      "\n"
     ]
    },
    {
     "name": "stderr",
     "output_type": "stream",
     "text": [
      "Epoch 18/20: 100%|██████████| 7/7 [00:55<00:00,  7.92s/it, age_loss=7.8679, gender_loss=0.1791]\n"
     ]
    },
    {
     "name": "stdout",
     "output_type": "stream",
     "text": [
      "Epoch 18/20 -> Train Gender Loss: 0.3367, Train Age MAE: 14.2212\n",
      "Validation -> Gender Loss: 0.2034, Gender Acc: 0.9364, Age MAE: 7.4099\n",
      "\n"
     ]
    },
    {
     "name": "stderr",
     "output_type": "stream",
     "text": [
      "Epoch 19/20: 100%|██████████| 7/7 [00:53<00:00,  7.71s/it, age_loss=6.2467, gender_loss=0.2063]\n"
     ]
    },
    {
     "name": "stdout",
     "output_type": "stream",
     "text": [
      "Epoch 19/20 -> Train Gender Loss: 0.2779, Train Age MAE: 13.2552\n",
      "Validation -> Gender Loss: 0.3033, Gender Acc: 0.8682, Age MAE: 7.7070\n",
      "\n"
     ]
    },
    {
     "name": "stderr",
     "output_type": "stream",
     "text": [
      "Epoch 20/20: 100%|██████████| 7/7 [00:51<00:00,  7.42s/it, age_loss=9.0552, gender_loss=0.2884]\n"
     ]
    },
    {
     "name": "stdout",
     "output_type": "stream",
     "text": [
      "Epoch 20/20 -> Train Gender Loss: 0.2607, Train Age MAE: 14.0849\n",
      "Validation -> Gender Loss: 0.2417, Gender Acc: 0.9182, Age MAE: 7.1064\n",
      "\n",
      "Training selesai!\n",
      "The model has been saved as age_gender_model.pth\n"
     ]
    }
   ],
   "source": [
    "# === STEP 4: EKSEKUSI ===\n",
    "trained_model = train_model(model,\n",
    "                            gender_loader_train,\n",
    "                            age_loader_train,\n",
    "                            criterion_gender,\n",
    "                            criterion_age,\n",
    "                            optimizer,\n",
    "                            num_epochs=NUM_EPOCHS)\n",
    "\n",
    "# save the trained model\n",
    "torch.save(trained_model.state_dict(), 'age_gender_model.pth')\n",
    "print(\"The model has been saved as age_gender_model.pth\")\n",
    "\n",
    "\n",
    "# === INFERENCE ===\n",
    "def predict_image(image_path, model):\n",
    "    model.eval()\n",
    "    image = Image.open(image_path).convert(\"RGB\")\n",
    "    \n",
    "    transform = data_transforms['val']\n",
    "    image_tensor = transform(image).unsqueeze(0).to(device)\n",
    "\n",
    "    with torch.no_grad():\n",
    "        gender_output, age_output = model(image_tensor)\n",
    "        \n",
    "        gender_prob = torch.sigmoid(gender_output).item()\n",
    "        gender = \"Male\" if gender_prob > 0.5 else \"Female\"\n",
    "        \n",
    "        age = age_output.item()\n",
    "        \n",
    "    print(f\"Prediction for {image_path}:\")\n",
    "    print(f\"  - Gender: {gender} (Prob: {gender_prob:.2f})\")\n",
    "    print(f\"  - Age: {age:.1f} years old\")\n",
    "\n",
    "# Coba prediksi pada gambar baru (ganti dengan path gambar Anda)\n",
    "# predict_image('path/to/your/test_image.jpg', trained_model)"
   ]
  },
  {
   "cell_type": "code",
   "execution_count": 8,
   "id": "d2fd0298",
   "metadata": {},
   "outputs": [
    {
     "name": "stdout",
     "output_type": "stream",
     "text": [
      "Streaming dihentikan oleh pengguna.\n",
      "Kamera sudah dimatikan.\n"
     ]
    }
   ],
   "source": [
    "# === TAMBAHAN: DETEKSI LIVE DARI KAMERA ===\n",
    "\n",
    "import cv2\n",
    "from PIL import Image\n",
    "from IPython.display import display, clear_output\n",
    "\n",
    "# Pastikan class AgeGenderModel sudah terdefinisi di sel sebelumnya.\n",
    "\n",
    "# === 1. Muat Model yang Sudah Dilatih ===\n",
    "print(\"Memuat model yang sudah dilatih...\")\n",
    "device = torch.device(\"cpu\") # Gunakan CPU untuk inferensi agar lebih mudah\n",
    "live_model = AgeGenderModel(num_features=2048).to(device)\n",
    "live_model.load_state_dict(torch.load('age_gender_model.pth', map_location=device))\n",
    "live_model.eval()\n",
    "print(\"Model berhasil dimuat.\")\n",
    "\n",
    "\n",
    "# === 2. Muat Face Detector dari OpenCV ===\n",
    "# OpenCV menyediakan model deteksi wajah Haar Cascade yang sudah terlatih.\n",
    "# Pastikan file haarcascade_frontalface_default.xml ada.\n",
    "# Jika error, unduh file tersebut dan letakkan di folder yang sama dengan notebook ini.\n",
    "try:\n",
    "    face_cascade = cv2.CascadeClassifier(cv2.data.haarcascades + 'haarcascade_frontalface_default.xml')\n",
    "    print(\"Face detector berhasil dimuat.\")\n",
    "except Exception as e:\n",
    "    print(f\"Error memuat face detector: {e}\")\n",
    "    print(\"Pastikan OpenCV terinstal dengan benar atau path ke file XML benar.\")\n",
    "\n",
    "\n",
    "# === 3. Loop untuk Deteksi Live ===\n",
    "# Transformasi gambar input (sama seperti validasi)\n",
    "transform = data_transforms['val']\n",
    "\n",
    "# Buka koneksi ke webcam (0 biasanya untuk webcam internal)\n",
    "video_capture = cv2.VideoCapture(0)\n",
    "print(\"Kamera dinyalakan. Tekan 'q' di jendela output untuk berhenti.\")\n",
    "\n",
    "try:\n",
    "    while True:\n",
    "        # Baca setiap frame dari video\n",
    "        ret, frame = video_capture.read()\n",
    "        if not ret:\n",
    "            print(\"Gagal mengambil frame dari kamera.\")\n",
    "            break\n",
    "\n",
    "        # Konversi frame ke grayscale untuk deteksi wajah (lebih cepat)\n",
    "        gray = cv2.cvtColor(frame, cv2.COLOR_BGR2GRAY)\n",
    "\n",
    "        # Deteksi wajah dalam gambar grayscale\n",
    "        faces = face_cascade.detectMultiScale(\n",
    "            gray,\n",
    "            scaleFactor=1.1,\n",
    "            minNeighbors=5,\n",
    "            minSize=(100, 100) # Ukuran minimum wajah yang akan dideteksi\n",
    "        )\n",
    "\n",
    "        # Loop untuk setiap wajah yang terdeteksi\n",
    "        for (x, y, w, h) in faces:\n",
    "            # Gambar kotak di sekeliling wajah pada frame asli (berwarna)\n",
    "            cv2.rectangle(frame, (x, y), (x+w, y+h), (0, 255, 0), 2)\n",
    "\n",
    "            # Crop area wajah dari frame\n",
    "            face_roi = frame[y:y+h, x:x+w]\n",
    "\n",
    "            # Konversi ROI (NumPy array) ke PIL Image untuk transformasi\n",
    "            pil_image = Image.fromarray(cv2.cvtColor(face_roi, cv2.COLOR_BGR2RGB))\n",
    "            \n",
    "            # Terapkan transformasi\n",
    "            image_tensor = transform(pil_image).unsqueeze(0).to(device)\n",
    "            \n",
    "            # Lakukan prediksi dengan model\n",
    "            with torch.no_grad():\n",
    "                gender_output, age_output = live_model(image_tensor)\n",
    "                \n",
    "                gender_prob = torch.sigmoid(gender_output).item()\n",
    "                gender = \"Pria\" if gender_prob > 0.5 else \"Wanita\"\n",
    "                age = age_output.item()\n",
    "            \n",
    "            # Siapkan teks untuk ditampilkan\n",
    "            prediction_text = f\"{gender}, Usia: {age:.1f}\"\n",
    "            \n",
    "            # Tampilkan teks prediksi di atas kotak wajah\n",
    "            cv2.putText(frame, prediction_text, (x, y - 10), cv2.FONT_HERSHEY_SIMPLEX, 0.7, (0, 255, 0), 2)\n",
    "\n",
    "        # Tampilkan frame yang sudah di-update di output Jupyter\n",
    "        # cv2.imshow seringkali tidak bekerja baik di notebook. Cara ini lebih stabil.\n",
    "        _, jpg_frame = cv2.imencode('.jpeg', frame)\n",
    "        display(Image.fromarray(cv2.cvtColor(frame, cv2.COLOR_BGR2RGB)))\n",
    "        \n",
    "        # Hapus output sebelumnya agar video terlihat seperti streaming\n",
    "        clear_output(wait=True)\n",
    "        \n",
    "        # Cek jika tombol 'q' ditekan untuk keluar (mungkin tidak berfungsi di semua browser)\n",
    "        # Cara terbaik untuk stop adalah dengan menekan tombol Stop di Jupyter Notebook.\n",
    "\n",
    "except KeyboardInterrupt:\n",
    "    print(\"Streaming dihentikan oleh pengguna.\")\n",
    "\n",
    "finally:\n",
    "    # Lepaskan koneksi kamera dan tutup semua jendela\n",
    "    video_capture.release()\n",
    "    print(\"Kamera sudah dimatikan.\")"
   ]
  }
 ],
 "metadata": {
  "kernelspec": {
   "display_name": "Python 3",
   "language": "python",
   "name": "python3"
  },
  "language_info": {
   "codemirror_mode": {
    "name": "ipython",
    "version": 3
   },
   "file_extension": ".py",
   "mimetype": "text/x-python",
   "name": "python",
   "nbconvert_exporter": "python",
   "pygments_lexer": "ipython3",
   "version": "3.13.7"
  }
 },
 "nbformat": 4,
 "nbformat_minor": 5
}
